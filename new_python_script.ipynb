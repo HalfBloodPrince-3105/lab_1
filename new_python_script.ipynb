{
 "cells": [
  {
   "cell_type": "code",
   "execution_count": 2,
   "id": "47f7475f",
   "metadata": {},
   "outputs": [
    {
     "name": "stdout",
     "output_type": "stream",
     "text": [
      "Name: John\n",
      "Age: 25\n",
      "City: New York\n",
      "Updated Age: 26\n",
      "Occupation: Engineer\n",
      "Dictionary after removing 'city': {'name': 'John', 'age': 26, 'occupation': 'Engineer'}\n"
     ]
    }
   ],
   "source": [
    "# Basic Python dictionary (key-value pairs) example\n",
    "# Creating a dictionary\n",
    "my_dict = {'name': 'John', 'age': 25, 'city': 'New York'}\n",
    "\n",
    "# Accessing values using keys\n",
    "print(\"Name:\", my_dict['name'])\n",
    "print(\"Age:\", my_dict['age'])\n",
    "print(\"City:\", my_dict['city'])\n",
    "\n",
    "# Modifying values\n",
    "my_dict['age'] = 26\n",
    "print(\"Updated Age:\", my_dict['age'])\n",
    "\n",
    "# Adding a new key-value pair\n",
    "my_dict['occupation'] = 'Engineer'\n",
    "print(\"Occupation:\", my_dict['occupation'])\n",
    "\n",
    "# Removing a key-value pair\n",
    "del my_dict['city']\n",
    "print(\"Dictionary after removing 'city':\", my_dict)\n"
   ]
  },
  {
   "cell_type": "code",
   "execution_count": null,
   "id": "b75159d4",
   "metadata": {},
   "outputs": [],
   "source": []
  }
 ],
 "metadata": {
  "kernelspec": {
   "display_name": "Python 3 (ipykernel)",
   "language": "python",
   "name": "python3"
  },
  "language_info": {
   "codemirror_mode": {
    "name": "ipython",
    "version": 3
   },
   "file_extension": ".py",
   "mimetype": "text/x-python",
   "name": "python",
   "nbconvert_exporter": "python",
   "pygments_lexer": "ipython3",
   "version": "3.11.4"
  }
 },
 "nbformat": 4,
 "nbformat_minor": 5
}
