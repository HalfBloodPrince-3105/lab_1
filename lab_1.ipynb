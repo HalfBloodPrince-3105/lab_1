{
 "cells": [
  {
   "cell_type": "code",
   "execution_count": null,
   "id": "8ad20cfc",
   "metadata": {},
   "outputs": [],
   "source": [
    "from cryptography.fernet import Fernet\n",
    "\n",
    "def generate_key():\n",
    "    \"\"\"Generate a key for encryption and decryption.\"\"\"\n",
    "    return Fernet.generate_key()\n",
    "\n",
    "def save_key(key, filename=\"secret.key\"):\n",
    "    \"\"\"Save the key to a file.\"\"\"\n",
    "    with open(filename, \"wb\") as key_file:\n",
    "        key_file.write(key)\n",
    "\n",
    "def load_key(filename=\"secret.key\"):\n",
    "    \"\"\"Load the key from a file.\"\"\"\n",
    "    return open(filename, \"rb\").read()\n",
    "\n",
    "def encrypt_message(message, key):\n",
    "    \"\"\"Encrypt a message using the provided key.\"\"\"\n",
    "    cipher_suite = Fernet(key)\n",
    "    encrypted_message = cipher_suite.encrypt(message.encode())\n",
    "    return encrypted_message\n",
    "\n",
    "def decrypt_message(encrypted_message, key):\n",
    "    \"\"\"Decrypt an encrypted message using the provided key.\"\"\"\n",
    "    cipher_suite = Fernet(key)\n",
    "    decrypted_message = cipher_suite.decrypt(encrypted_message).decode()\n",
    "    return decrypted_message\n",
    "\n",
    "def main():\n",
    "    # Generate or load a key\n",
    "    key = generate_key()\n",
    "    save_key(key)\n",
    "\n",
    "    print(\"Key generated and saved.\")\n",
    "\n",
    "    # Get a message from the user\n",
    "    message = input(\"Enter a message to encrypt: \")\n",
    "\n",
    "    # Encrypt the message\n",
    "    encrypted_message = encrypt_message(message, key)\n",
    "    print(f\"Encrypted Message: {encrypted_message}\")\n",
    "\n",
    "    # Decrypt the message\n",
    "    decrypted_message = decrypt_message(encrypted_message, key)\n",
    "    print(f\"Decrypted Message: {decrypted_message}\")\n",
    "\n",
    "if __name__ == \"__main__\":\n",
    "    main()\n"
   ]
  },
  {
   "cell_type": "code",
   "execution_count": null,
   "id": "bb5a2078",
   "metadata": {},
   "outputs": [],
   "source": []
  }
 ],
 "metadata": {
  "kernelspec": {
   "display_name": "Python 3 (ipykernel)",
   "language": "python",
   "name": "python3"
  },
  "language_info": {
   "codemirror_mode": {
    "name": "ipython",
    "version": 3
   },
   "file_extension": ".py",
   "mimetype": "text/x-python",
   "name": "python",
   "nbconvert_exporter": "python",
   "pygments_lexer": "ipython3",
   "version": "3.11.4"
  }
 },
 "nbformat": 4,
 "nbformat_minor": 5
}
